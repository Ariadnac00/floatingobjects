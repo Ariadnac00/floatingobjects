{
 "cells": [
  {
   "cell_type": "code",
   "execution_count": 1,
   "id": "supported-graphics",
   "metadata": {},
   "outputs": [
    {
     "name": "stdout",
     "output_type": "stream",
     "text": [
      "bandimportance2.svg   distributions.png        pixelgradientsleft.svg\r\n",
      "bandimportance.svg    distributions.svg        pixelgradientsright.svg\r\n",
      "BaselineModels.ipynb  FeatureImportance.ipynb  regionlabels.svg\r\n",
      "Biermann2020\t      LabelAnalysis.ipynb      Regions.ipynb\r\n",
      "Biermann2020.ipynb    Models.ipynb\t       regions.svg\r\n"
     ]
    }
   ],
   "source": [
    "!ls "
   ]
  },
  {
   "cell_type": "code",
   "execution_count": 1,
   "id": "about-gasoline",
   "metadata": {},
   "outputs": [],
   "source": [
    "import glob\n",
    "import os\n",
    "import sys\n",
    "import torch\n",
    "import pandas as pd\n",
    "sys.path.append(\"../code\")"
   ]
  },
  {
   "cell_type": "code",
   "execution_count": 2,
   "id": "indian-google",
   "metadata": {},
   "outputs": [],
   "source": [
    "root = \"/dataserver/marcrusswurm/floatingobjects\"\n",
    "root = \"/ssd/floatingObjects/models\""
   ]
  },
  {
   "cell_type": "code",
   "execution_count": null,
   "id": "three-compilation",
   "metadata": {},
   "outputs": [],
   "source": []
  },
  {
   "cell_type": "code",
   "execution_count": 6,
   "id": "published-recommendation",
   "metadata": {},
   "outputs": [],
   "source": [
    "\n",
    "from data import FloatingSeaObjectDataset, allregions, get_region_split\n",
    "ds = FloatingSeaObjectDataset(\"/ssd/floatingObjects/data\", fold=\"train\", seed=0)"
   ]
  },
  {
   "cell_type": "code",
   "execution_count": 7,
   "id": "speaking-blogger",
   "metadata": {},
   "outputs": [
    {
     "data": {
      "text/plain": [
       "{'train': ['biscay_20180419',\n",
       "  'mandaluyong_20180314',\n",
       "  'sandiego_20180804',\n",
       "  'vungtau_20180423',\n",
       "  'kolkata_20201115',\n",
       "  'toledo_20191221',\n",
       "  'lagos_20200505',\n",
       "  'venice_20180630',\n",
       "  'venice_20180928'],\n",
       " 'val': ['panama_20190425', 'accra_20181031', 'riodejaneiro_20180504'],\n",
       " 'test': ['danang_20181005', 'longxuyen_20181102', 'lagos_20190101']}"
      ]
     },
     "execution_count": 7,
     "metadata": {},
     "output_type": "execute_result"
    }
   ],
   "source": [
    "get_region_split(seed=0)"
   ]
  },
  {
   "cell_type": "code",
   "execution_count": 18,
   "id": "mounted-camping",
   "metadata": {},
   "outputs": [
    {
     "data": {
      "text/plain": [
       "array(['panama_20190425', 'accra_20181031', 'riodejaneiro_20180504'],\n",
       "      dtype='<U21')"
      ]
     },
     "execution_count": 18,
     "metadata": {},
     "output_type": "execute_result"
    }
   ],
   "source": []
  },
  {
   "cell_type": "code",
   "execution_count": 4,
   "id": "educated-complement",
   "metadata": {},
   "outputs": [],
   "source": [
    "logs = []\n",
    "models = glob.glob(os.path.join(root,\"*\",\"*.pth.tar\"))\n",
    "for snapshotpath in models:\n",
    "    log = pd.DataFrame(torch.load(snapshotpath)[\"logs\"])\n",
    "    log[\"model\"] = os.path.basename(snapshotpath)\n",
    "    log[\"seed\"] = os.path.dirname(snapshotpath).split(\"/\")[-1]\n",
    "    logs.append(log)\n",
    "alllogs = pd.concat(logs)"
   ]
  },
  {
   "cell_type": "code",
   "execution_count": 5,
   "id": "democratic-courage",
   "metadata": {},
   "outputs": [
    {
     "data": {
      "text/html": [
       "<div>\n",
       "<style scoped>\n",
       "    .dataframe tbody tr th:only-of-type {\n",
       "        vertical-align: middle;\n",
       "    }\n",
       "\n",
       "    .dataframe tbody tr th {\n",
       "        vertical-align: top;\n",
       "    }\n",
       "\n",
       "    .dataframe thead th {\n",
       "        text-align: right;\n",
       "    }\n",
       "</style>\n",
       "<table border=\"1\" class=\"dataframe\">\n",
       "  <thead>\n",
       "    <tr style=\"text-align: right;\">\n",
       "      <th></th>\n",
       "      <th>epoch</th>\n",
       "      <th>trainloss</th>\n",
       "      <th>valloss</th>\n",
       "      <th>precision</th>\n",
       "      <th>recall</th>\n",
       "      <th>fscore</th>\n",
       "      <th>kappa</th>\n",
       "      <th>model</th>\n",
       "      <th>seed</th>\n",
       "    </tr>\n",
       "  </thead>\n",
       "  <tbody>\n",
       "    <tr>\n",
       "      <th>8</th>\n",
       "      <td>9</td>\n",
       "      <td>0.351518</td>\n",
       "      <td>1.083442</td>\n",
       "      <td>0.844523</td>\n",
       "      <td>0.781887</td>\n",
       "      <td>0.808846</td>\n",
       "      <td>0.645877</td>\n",
       "      <td>unet-posweight10-lr01-aug1.pth.tar</td>\n",
       "      <td>3</td>\n",
       "    </tr>\n",
       "    <tr>\n",
       "      <th>8</th>\n",
       "      <td>9</td>\n",
       "      <td>0.361270</td>\n",
       "      <td>0.797678</td>\n",
       "      <td>0.712736</td>\n",
       "      <td>0.743676</td>\n",
       "      <td>0.724285</td>\n",
       "      <td>0.581478</td>\n",
       "      <td>unet-posweight10-lr01-aug2.pth.tar</td>\n",
       "      <td>0</td>\n",
       "    </tr>\n",
       "    <tr>\n",
       "      <th>6</th>\n",
       "      <td>7</td>\n",
       "      <td>0.387309</td>\n",
       "      <td>0.744989</td>\n",
       "      <td>0.720416</td>\n",
       "      <td>0.782545</td>\n",
       "      <td>0.745376</td>\n",
       "      <td>0.560418</td>\n",
       "      <td>unet-posweight10-lr01-aug2.pth.tar</td>\n",
       "      <td>0</td>\n",
       "    </tr>\n",
       "    <tr>\n",
       "      <th>36</th>\n",
       "      <td>37</td>\n",
       "      <td>0.262645</td>\n",
       "      <td>0.724222</td>\n",
       "      <td>0.690349</td>\n",
       "      <td>0.815476</td>\n",
       "      <td>0.732487</td>\n",
       "      <td>0.550828</td>\n",
       "      <td>resnetunetscse-posweight10-lr01-aug2.pth.tar</td>\n",
       "      <td>0</td>\n",
       "    </tr>\n",
       "    <tr>\n",
       "      <th>9</th>\n",
       "      <td>10</td>\n",
       "      <td>0.377918</td>\n",
       "      <td>0.876327</td>\n",
       "      <td>0.707328</td>\n",
       "      <td>0.796119</td>\n",
       "      <td>0.741180</td>\n",
       "      <td>0.533108</td>\n",
       "      <td>resnetunetscse-posweight10-lr01-aug2.pth.tar</td>\n",
       "      <td>0</td>\n",
       "    </tr>\n",
       "    <tr>\n",
       "      <th>...</th>\n",
       "      <td>...</td>\n",
       "      <td>...</td>\n",
       "      <td>...</td>\n",
       "      <td>...</td>\n",
       "      <td>...</td>\n",
       "      <td>...</td>\n",
       "      <td>...</td>\n",
       "      <td>...</td>\n",
       "      <td>...</td>\n",
       "    </tr>\n",
       "    <tr>\n",
       "      <th>7</th>\n",
       "      <td>8</td>\n",
       "      <td>0.455923</td>\n",
       "      <td>2.133814</td>\n",
       "      <td>0.470683</td>\n",
       "      <td>0.489309</td>\n",
       "      <td>0.479794</td>\n",
       "      <td>-0.050985</td>\n",
       "      <td>manet-posweight10-lr01-aug2r.pth.tar</td>\n",
       "      <td>0</td>\n",
       "    </tr>\n",
       "    <tr>\n",
       "      <th>1</th>\n",
       "      <td>2</td>\n",
       "      <td>0.459747</td>\n",
       "      <td>1.717076</td>\n",
       "      <td>0.470921</td>\n",
       "      <td>0.489532</td>\n",
       "      <td>0.480028</td>\n",
       "      <td>-0.051746</td>\n",
       "      <td>resnetunetscse-posweight10-lr01-aug2.pth.tar</td>\n",
       "      <td>0</td>\n",
       "    </tr>\n",
       "    <tr>\n",
       "      <th>20</th>\n",
       "      <td>21</td>\n",
       "      <td>0.416046</td>\n",
       "      <td>1.849154</td>\n",
       "      <td>0.473024</td>\n",
       "      <td>0.490624</td>\n",
       "      <td>0.481128</td>\n",
       "      <td>-0.056108</td>\n",
       "      <td>manet-posweight10-lr01-aug2r.pth.tar</td>\n",
       "      <td>0</td>\n",
       "    </tr>\n",
       "    <tr>\n",
       "      <th>3</th>\n",
       "      <td>4</td>\n",
       "      <td>0.324719</td>\n",
       "      <td>1.003703</td>\n",
       "      <td>0.471675</td>\n",
       "      <td>0.489926</td>\n",
       "      <td>0.480384</td>\n",
       "      <td>-0.059251</td>\n",
       "      <td>manet-posweight5-lr01-aug2r.pth.tar</td>\n",
       "      <td>0</td>\n",
       "    </tr>\n",
       "    <tr>\n",
       "      <th>4</th>\n",
       "      <td>5</td>\n",
       "      <td>0.432931</td>\n",
       "      <td>1.263294</td>\n",
       "      <td>0.473904</td>\n",
       "      <td>0.455070</td>\n",
       "      <td>0.463425</td>\n",
       "      <td>-0.071352</td>\n",
       "      <td>manet-posweight10-lr01-aug2.pth.tar</td>\n",
       "      <td>0</td>\n",
       "    </tr>\n",
       "  </tbody>\n",
       "</table>\n",
       "<p>780 rows × 9 columns</p>\n",
       "</div>"
      ],
      "text/plain": [
       "    epoch  trainloss   valloss  precision    recall    fscore     kappa  \\\n",
       "8       9   0.351518  1.083442   0.844523  0.781887  0.808846  0.645877   \n",
       "8       9   0.361270  0.797678   0.712736  0.743676  0.724285  0.581478   \n",
       "6       7   0.387309  0.744989   0.720416  0.782545  0.745376  0.560418   \n",
       "36     37   0.262645  0.724222   0.690349  0.815476  0.732487  0.550828   \n",
       "9      10   0.377918  0.876327   0.707328  0.796119  0.741180  0.533108   \n",
       "..    ...        ...       ...        ...       ...       ...       ...   \n",
       "7       8   0.455923  2.133814   0.470683  0.489309  0.479794 -0.050985   \n",
       "1       2   0.459747  1.717076   0.470921  0.489532  0.480028 -0.051746   \n",
       "20     21   0.416046  1.849154   0.473024  0.490624  0.481128 -0.056108   \n",
       "3       4   0.324719  1.003703   0.471675  0.489926  0.480384 -0.059251   \n",
       "4       5   0.432931  1.263294   0.473904  0.455070  0.463425 -0.071352   \n",
       "\n",
       "                                           model seed  \n",
       "8             unet-posweight10-lr01-aug1.pth.tar    3  \n",
       "8             unet-posweight10-lr01-aug2.pth.tar    0  \n",
       "6             unet-posweight10-lr01-aug2.pth.tar    0  \n",
       "36  resnetunetscse-posweight10-lr01-aug2.pth.tar    0  \n",
       "9   resnetunetscse-posweight10-lr01-aug2.pth.tar    0  \n",
       "..                                           ...  ...  \n",
       "7           manet-posweight10-lr01-aug2r.pth.tar    0  \n",
       "1   resnetunetscse-posweight10-lr01-aug2.pth.tar    0  \n",
       "20          manet-posweight10-lr01-aug2r.pth.tar    0  \n",
       "3            manet-posweight5-lr01-aug2r.pth.tar    0  \n",
       "4            manet-posweight10-lr01-aug2.pth.tar    0  \n",
       "\n",
       "[780 rows x 9 columns]"
      ]
     },
     "execution_count": 5,
     "metadata": {},
     "output_type": "execute_result"
    }
   ],
   "source": [
    "alllogs.sort_values(by=\"kappa\", ascending=False)"
   ]
  },
  {
   "cell_type": "code",
   "execution_count": 6,
   "id": "cleared-lodging",
   "metadata": {},
   "outputs": [
    {
     "data": {
      "text/plain": [
       "model                                                 seed\n",
       "unet-posweight10-lr01-aug1.pth.tar                    3       0.645877\n",
       "unet-posweight10-lr01-aug2.pth.tar                    0       0.581478\n",
       "resnetunetscse-posweight10-lr01-aug2.pth.tar          0       0.550828\n",
       "manet-posweight10-lr01-aug2.pth.tar                   0       0.524210\n",
       "resnetunetscse-posweight10-lr01-aug1-scratch.pth.tar  0       0.503562\n",
       "resnetunet-posweight10-lr01-aug2.pth.tar              0       0.493516\n",
       "resnetunetscse-posweight10-lr01-aug1.pth.tar          3       0.429942\n",
       "manet-posweight10-lr001-aug2r.pth.tar                 0       0.369588\n",
       "manet-posweight10-lr01-aug2r.pth.tar                  0       0.306415\n",
       "unet-posweight10-lr01-aug2.pth.tar                    1       0.236121\n",
       "manet-posweight5-lr01-aug2r.pth.tar                   0       0.226403\n",
       "resnetunet-posweight10-lr01-aug2.pth.tar              1       0.220253\n",
       "unet-posweight10-lr01-aug1.pth.tar                    2       0.194307\n",
       "resnetunetscse-posweight10-lr01-aug1.pth.tar          4       0.180841\n",
       "manet-posweight10-lr01-aug2.pth.tar                   1       0.176068\n",
       "manet-posweight10-lr01-aug2r.pth.tar                  1       0.162861\n",
       "resnetunetscse-posweight10-lr01-aug2.pth.tar          1       0.160188\n",
       "manet-posweight10-lr001-aug2r.pth.tar                 1       0.158799\n",
       "unet-posweight10-lr01-aug1.pth.tar                    5       0.156110\n",
       "                                                      4       0.131283\n",
       "manet-posweight5-lr01-aug2r.pth.tar                   1       0.119443\n",
       "resnetunetscse-posweight10-lr01-aug1.pth.tar          5       0.111795\n",
       "Name: kappa, dtype: float64"
      ]
     },
     "execution_count": 6,
     "metadata": {},
     "output_type": "execute_result"
    }
   ],
   "source": [
    "alllogs.groupby([\"model\",\"seed\"]).kappa.max().sort_values(ascending=False)"
   ]
  },
  {
   "cell_type": "code",
   "execution_count": 7,
   "id": "dangerous-interface",
   "metadata": {},
   "outputs": [
    {
     "data": {
      "text/plain": [
       "model                                                 seed\n",
       "manet-posweight5-lr01-aug2r.pth.tar                   1       0.101017\n",
       "unet-posweight10-lr01-aug2.pth.tar                    1       0.122256\n",
       "manet-posweight10-lr01-aug2.pth.tar                   1       0.132318\n",
       "resnetunet-posweight10-lr01-aug2.pth.tar              1       0.133982\n",
       "manet-posweight10-lr01-aug2r.pth.tar                  1       0.141639\n",
       "manet-posweight10-lr001-aug2r.pth.tar                 1       0.157556\n",
       "resnetunetscse-posweight10-lr01-aug2.pth.tar          1       0.162844\n",
       "unet-posweight10-lr01-aug1.pth.tar                    5       0.186521\n",
       "resnetunetscse-posweight10-lr01-aug1.pth.tar          5       0.205710\n",
       "                                                      4       0.206101\n",
       "unet-posweight10-lr01-aug1.pth.tar                    2       0.217514\n",
       "                                                      4       0.237797\n",
       "resnetunetscse-posweight10-lr01-aug1-scratch.pth.tar  0       0.509996\n",
       "unet-posweight10-lr01-aug2.pth.tar                    0       0.525035\n",
       "resnetunetscse-posweight10-lr01-aug2.pth.tar          0       0.539178\n",
       "resnetunetscse-posweight10-lr01-aug1.pth.tar          3       0.561570\n",
       "unet-posweight10-lr01-aug1.pth.tar                    3       0.589148\n",
       "resnetunet-posweight10-lr01-aug2.pth.tar              0       0.627051\n",
       "manet-posweight5-lr01-aug2r.pth.tar                   0       0.676277\n",
       "manet-posweight10-lr01-aug2.pth.tar                   0       0.740639\n",
       "manet-posweight10-lr001-aug2r.pth.tar                 0       1.007744\n",
       "manet-posweight10-lr01-aug2r.pth.tar                  0       1.052689\n",
       "Name: valloss, dtype: float64"
      ]
     },
     "execution_count": 7,
     "metadata": {},
     "output_type": "execute_result"
    }
   ],
   "source": [
    "\n",
    "alllogs.groupby([\"model\",\"seed\"]).valloss.min().sort_values(ascending=True)"
   ]
  },
  {
   "cell_type": "code",
   "execution_count": 31,
   "id": "medieval-presentation",
   "metadata": {},
   "outputs": [],
   "source": [
    "a = alllogs.model == \"unet-posweight10-lr01-aug1.pth.tar\"\n",
    "b = alllogs.model == \"unet-posweight10-lr01-aug2.pth.tar\"\n",
    "\n",
    "unet = alllogs.loc[a | b]"
   ]
  },
  {
   "cell_type": "code",
   "execution_count": 32,
   "id": "rising-allowance",
   "metadata": {},
   "outputs": [
    {
     "data": {
      "text/html": [
       "<div>\n",
       "<style scoped>\n",
       "    .dataframe tbody tr th:only-of-type {\n",
       "        vertical-align: middle;\n",
       "    }\n",
       "\n",
       "    .dataframe tbody tr th {\n",
       "        vertical-align: top;\n",
       "    }\n",
       "\n",
       "    .dataframe thead th {\n",
       "        text-align: right;\n",
       "    }\n",
       "</style>\n",
       "<table border=\"1\" class=\"dataframe\">\n",
       "  <thead>\n",
       "    <tr style=\"text-align: right;\">\n",
       "      <th></th>\n",
       "      <th>epoch</th>\n",
       "      <th>trainloss</th>\n",
       "      <th>valloss</th>\n",
       "      <th>precision</th>\n",
       "      <th>recall</th>\n",
       "      <th>fscore</th>\n",
       "      <th>kappa</th>\n",
       "      <th>model</th>\n",
       "    </tr>\n",
       "    <tr>\n",
       "      <th>seed</th>\n",
       "      <th></th>\n",
       "      <th></th>\n",
       "      <th></th>\n",
       "      <th></th>\n",
       "      <th></th>\n",
       "      <th></th>\n",
       "      <th></th>\n",
       "      <th></th>\n",
       "    </tr>\n",
       "  </thead>\n",
       "  <tbody>\n",
       "    <tr>\n",
       "      <th>0</th>\n",
       "      <td>20</td>\n",
       "      <td>0.477448</td>\n",
       "      <td>1.910028</td>\n",
       "      <td>0.818643</td>\n",
       "      <td>0.873868</td>\n",
       "      <td>0.773041</td>\n",
       "      <td>0.581478</td>\n",
       "      <td>unet-posweight10-lr01-aug2.pth.tar</td>\n",
       "    </tr>\n",
       "    <tr>\n",
       "      <th>1</th>\n",
       "      <td>50</td>\n",
       "      <td>0.525572</td>\n",
       "      <td>0.447001</td>\n",
       "      <td>0.657470</td>\n",
       "      <td>0.804772</td>\n",
       "      <td>0.609241</td>\n",
       "      <td>0.236121</td>\n",
       "      <td>unet-posweight10-lr01-aug2.pth.tar</td>\n",
       "    </tr>\n",
       "    <tr>\n",
       "      <th>2</th>\n",
       "      <td>40</td>\n",
       "      <td>0.564259</td>\n",
       "      <td>0.619651</td>\n",
       "      <td>0.555248</td>\n",
       "      <td>0.790846</td>\n",
       "      <td>0.581808</td>\n",
       "      <td>0.194307</td>\n",
       "      <td>unet-posweight10-lr01-aug1.pth.tar</td>\n",
       "    </tr>\n",
       "    <tr>\n",
       "      <th>3</th>\n",
       "      <td>27</td>\n",
       "      <td>0.493843</td>\n",
       "      <td>1.546663</td>\n",
       "      <td>0.861104</td>\n",
       "      <td>0.871463</td>\n",
       "      <td>0.808846</td>\n",
       "      <td>0.645877</td>\n",
       "      <td>unet-posweight10-lr01-aug1.pth.tar</td>\n",
       "    </tr>\n",
       "    <tr>\n",
       "      <th>4</th>\n",
       "      <td>31</td>\n",
       "      <td>0.733802</td>\n",
       "      <td>0.342874</td>\n",
       "      <td>0.674266</td>\n",
       "      <td>0.601434</td>\n",
       "      <td>0.573548</td>\n",
       "      <td>0.131283</td>\n",
       "      <td>unet-posweight10-lr01-aug1.pth.tar</td>\n",
       "    </tr>\n",
       "    <tr>\n",
       "      <th>5</th>\n",
       "      <td>38</td>\n",
       "      <td>0.477801</td>\n",
       "      <td>0.878231</td>\n",
       "      <td>0.551816</td>\n",
       "      <td>0.691885</td>\n",
       "      <td>0.550713</td>\n",
       "      <td>0.156110</td>\n",
       "      <td>unet-posweight10-lr01-aug1.pth.tar</td>\n",
       "    </tr>\n",
       "  </tbody>\n",
       "</table>\n",
       "</div>"
      ],
      "text/plain": [
       "      epoch  trainloss   valloss  precision    recall    fscore     kappa  \\\n",
       "seed                                                                        \n",
       "0        20   0.477448  1.910028   0.818643  0.873868  0.773041  0.581478   \n",
       "1        50   0.525572  0.447001   0.657470  0.804772  0.609241  0.236121   \n",
       "2        40   0.564259  0.619651   0.555248  0.790846  0.581808  0.194307   \n",
       "3        27   0.493843  1.546663   0.861104  0.871463  0.808846  0.645877   \n",
       "4        31   0.733802  0.342874   0.674266  0.601434  0.573548  0.131283   \n",
       "5        38   0.477801  0.878231   0.551816  0.691885  0.550713  0.156110   \n",
       "\n",
       "                                   model  \n",
       "seed                                      \n",
       "0     unet-posweight10-lr01-aug2.pth.tar  \n",
       "1     unet-posweight10-lr01-aug2.pth.tar  \n",
       "2     unet-posweight10-lr01-aug1.pth.tar  \n",
       "3     unet-posweight10-lr01-aug1.pth.tar  \n",
       "4     unet-posweight10-lr01-aug1.pth.tar  \n",
       "5     unet-posweight10-lr01-aug1.pth.tar  "
      ]
     },
     "execution_count": 32,
     "metadata": {},
     "output_type": "execute_result"
    }
   ],
   "source": [
    "unet.groupby(\"seed\").max()"
   ]
  },
  {
   "cell_type": "code",
   "execution_count": 152,
   "id": "graduate-reduction",
   "metadata": {},
   "outputs": [],
   "source": [
    "from model import get_model"
   ]
  },
  {
   "cell_type": "code",
   "execution_count": 174,
   "id": "electrical-necessity",
   "metadata": {},
   "outputs": [],
   "source": [
    "unet = get_model(\"unet\")"
   ]
  },
  {
   "cell_type": "code",
   "execution_count": 175,
   "id": "swedish-parking",
   "metadata": {},
   "outputs": [
    {
     "data": {
      "text/plain": [
       "<All keys matched successfully>"
      ]
     },
     "execution_count": 175,
     "metadata": {},
     "output_type": "execute_result"
    }
   ],
   "source": [
    "unet.load_state_dict(torch.load(\"/ssd/floatingObjects/models/2/unet-posweight10-lr01-aug1.pth.tar\")[\"model_state_dict\"])"
   ]
  },
  {
   "cell_type": "code",
   "execution_count": 176,
   "id": "exempt-access",
   "metadata": {},
   "outputs": [],
   "source": [
    "from data import FloatingSeaObjectDataset\n",
    "from transforms import get_transform\n",
    "test_dataset = FloatingSeaObjectDataset(\"/ssd/floatingObjects/data\", fold=\"test\", transform=get_transform(\"test\"),\n",
    "                                         output_size=128, seed=2, hard_negative_mining=False)\n"
   ]
  },
  {
   "cell_type": "code",
   "execution_count": 177,
   "id": "advised-enemy",
   "metadata": {},
   "outputs": [],
   "source": [
    "x,y,fid = test_dataset[200]"
   ]
  },
  {
   "cell_type": "code",
   "execution_count": 178,
   "id": "fifty-louisville",
   "metadata": {},
   "outputs": [],
   "source": [
    "y_pred = unet(torch.tensor(x).unsqueeze(0)).squeeze()"
   ]
  },
  {
   "cell_type": "code",
   "execution_count": 179,
   "id": "thermal-thought",
   "metadata": {},
   "outputs": [],
   "source": [
    "predictions = torch.sigmoid(y_pred.squeeze()) > 0.5"
   ]
  },
  {
   "cell_type": "code",
   "execution_count": 180,
   "id": "continental-selection",
   "metadata": {},
   "outputs": [
    {
     "data": {
      "text/plain": [
       "tensor([[0., 0., 0.,  ..., 0., 0., 0.],\n",
       "        [0., 0., 0.,  ..., 0., 0., 0.],\n",
       "        [0., 0., 0.,  ..., 0., 0., 0.],\n",
       "        ...,\n",
       "        [0., 0., 0.,  ..., 0., 0., 0.],\n",
       "        [0., 0., 0.,  ..., 0., 0., 0.],\n",
       "        [0., 0., 0.,  ..., 0., 0., 0.]])"
      ]
     },
     "execution_count": 180,
     "metadata": {},
     "output_type": "execute_result"
    }
   ],
   "source": [
    "y"
   ]
  },
  {
   "cell_type": "code",
   "execution_count": 184,
   "id": "improving-genetics",
   "metadata": {},
   "outputs": [
    {
     "name": "stdout",
     "output_type": "stream",
     "text": [
      "0.06999485331960885\n"
     ]
    }
   ],
   "source": [
    "from sklearn.metrics import jaccard_score as jsc\n",
    "print(jsc(y.view(-1),predictions.view(-1)))"
   ]
  },
  {
   "cell_type": "code",
   "execution_count": 182,
   "id": "accredited-chorus",
   "metadata": {},
   "outputs": [
    {
     "data": {
      "text/plain": [
       "<matplotlib.image.AxesImage at 0x7f00ef94a520>"
      ]
     },
     "execution_count": 182,
     "metadata": {},
     "output_type": "execute_result"
    },
    {
     "data": {
      "image/png": "[encoded data removed]",
      "text/plain": [
       "<Figure size 432x288 with 1 Axes>"
      ]
     },
     "metadata": {
      "needs_background": "light"
     },
     "output_type": "display_data"
    }
   ],
   "source": [
    "import matplotlib.pyplot as plt\n",
    "plt.imshow(y)"
   ]
  },
  {
   "cell_type": "code",
   "execution_count": 183,
   "id": "greek-fifty",
   "metadata": {},
   "outputs": [
    {
     "data": {
      "text/plain": [
       "<matplotlib.image.AxesImage at 0x7f00f4112700>"
      ]
     },
     "execution_count": 183,
     "metadata": {},
     "output_type": "execute_result"
    },
    {
     "data": {
      "image/png": "[encoded data removed]",
      "text/plain": [
       "<Figure size 432x288 with 1 Axes>"
      ]
     },
     "metadata": {
      "needs_background": "light"
     },
     "output_type": "display_data"
    }
   ],
   "source": [
    "plt.imshow(torch.sigmoid(y_pred.squeeze()).detach())"
   ]
  },
  {
   "cell_type": "code",
   "execution_count": 114,
   "id": "consolidated-mathematics",
   "metadata": {},
   "outputs": [],
   "source": []
  },
  {
   "cell_type": "code",
   "execution_count": null,
   "id": "precious-postage",
   "metadata": {},
   "outputs": [],
   "source": []
  }
 ],
 "metadata": {
  "kernelspec": {
   "display_name": "Python 3",
   "language": "python",
   "name": "python3"
  },
  "language_info": {
   "codemirror_mode": {
    "name": "ipython",
    "version": 3
   },
   "file_extension": ".py",
   "mimetype": "text/x-python",
   "name": "python",
   "nbconvert_exporter": "python",
   "pygments_lexer": "ipython3",
   "version": "3.8.2"
  }
 },
 "nbformat": 4,
 "nbformat_minor": 5
}
