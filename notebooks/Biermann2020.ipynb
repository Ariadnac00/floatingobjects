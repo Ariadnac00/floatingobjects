{
 "cells": [
  {
   "cell_type": "markdown",
   "metadata": {},
   "source": [
    "# Reconstruct the Classification data of Biermann et al., 2020"
   ]
  },
  {
   "cell_type": "code",
   "execution_count": 5,
   "metadata": {},
   "outputs": [],
   "source": [
    "import geopandas as gpd\n",
    "import pandas as pd\n",
    "import matplotlib.pyplot as plt"
   ]
  },
  {
   "cell_type": "markdown",
   "metadata": {},
   "source": [
    "## Load annotated data from png plot"
   ]
  },
  {
   "cell_type": "code",
   "execution_count": 54,
   "metadata": {},
   "outputs": [],
   "source": [
    "axis = gpd.read_file(\"Biermann2020/axis.shp\")\n",
    "axis[\"col\"] = axis.geometry.x\n",
    "axis[\"row\"] = axis.geometry.y\n",
    "\n",
    "plastic = gpd.read_file(\"Biermann2020/plastic.shp\")\n",
    "pumice = gpd.read_file(\"Biermann2020/pumice.shp\")\n",
    "seafoam = gpd.read_file(\"Biermann2020/seafoam.shp\")\n",
    "seawater = gpd.read_file(\"Biermann2020/seawater.shp\")\n",
    "seaweed = gpd.read_file(\"Biermann2020/seaweed.shp\")\n",
    "timber = gpd.read_file(\"Biermann2020/timber.shp\")\n",
    "\n",
    "dfs = [plastic, pumice, seafoam, seawater, seaweed, timber]\n",
    "labels = [\"plastic\", \"pumice\", \"seafoam\", \"seawater\", \"seaweed\", \"timber\"]\n",
    "\n",
    "for df, label in zip(dfs, labels):\n",
    "    df[\"label\"] = label\n",
    "\n",
    "data = pd.concat(dfs)\n",
    "\n",
    "data[\"col\"] = data.geometry.x\n",
    "data[\"row\"] = data.geometry.y"
   ]
  },
  {
   "cell_type": "markdown",
   "metadata": {},
   "source": [
    "## Fit Transformation"
   ]
  },
  {
   "cell_type": "code",
   "execution_count": 75,
   "metadata": {},
   "outputs": [
    {
     "name": "stdout",
     "output_type": "stream",
     "text": [
      "Transformation Matrix\n",
      "[[ 1.11533456e-03  7.33219332e-06]\n",
      " [ 2.96226851e-07  1.15887458e-04]\n",
      " [-6.46992914e-01  9.36081535e-02]]\n"
     ]
    }
   ],
   "source": [
    "import numpy as np\n",
    "\n",
    "class Transform():\n",
    "    \"\"\"https://stackoverflow.com/questions/50562755/how-to-determine-transformation-matrix-having-coordinate-pairs\"\"\"\n",
    "\n",
    "    def fit(self, ndvifdi, colrow):\n",
    "        A = np.vstack([colrow.T, np.ones(len(colrow))]).T\n",
    "        x, res, rank, s = np.linalg.lstsq(A, ndvifdi, rcond=None)\n",
    "        self.x = x\n",
    "    \n",
    "    def transform(self, colrow):\n",
    "        A = np.vstack([colrow.T, np.ones(len(colrow))]).T\n",
    "        return np.dot(A,self.x)\n",
    "    \n",
    "ndvifdi = axis[[\"ndvi\",\"fdi\"]].values\n",
    "colrow = axis[[\"col\",\"row\"]].values\n",
    "    \n",
    "tf = Transform()\n",
    "tf.fit(ndvifdi, colrow)\n",
    "\n",
    "print(\"Transformation Matrix\")\n",
    "print(tf.x)"
   ]
  },
  {
   "cell_type": "markdown",
   "metadata": {},
   "source": [
    "## Transform"
   ]
  },
  {
   "cell_type": "code",
   "execution_count": 76,
   "metadata": {},
   "outputs": [],
   "source": [
    "ndvifdi = tf.transform(data[[\"col\",\"row\"]].values)\n",
    "data[\"ndvi\"] = ndvifdi[:,0]\n",
    "data[\"fdi\"] = ndvifdi[:,1]"
   ]
  },
  {
   "cell_type": "markdown",
   "metadata": {},
   "source": [
    "## Save"
   ]
  },
  {
   "cell_type": "code",
   "execution_count": 74,
   "metadata": {},
   "outputs": [],
   "source": [
    "data.drop(columns=[\"geometry\", \"col\", \"row\", \"id\"]).to_csv(\"Biermann2020/reconstructed_data.csv\")"
   ]
  },
  {
   "cell_type": "markdown",
   "metadata": {},
   "source": [
    "## Reconstructed Data"
   ]
  },
  {
   "cell_type": "code",
   "execution_count": 66,
   "metadata": {},
   "outputs": [
    {
     "data": {
      "text/plain": [
       "Text(0, 0.5, 'fdi')"
      ]
     },
     "execution_count": 66,
     "metadata": {},
     "output_type": "execute_result"
    },
    {
     "data": {
      "image/png": "[encoded data removed]",
      "text/plain": [
       "<Figure size 432x288 with 1 Axes>"
      ]
     },
     "metadata": {
      "needs_background": "light"
     },
     "output_type": "display_data"
    }
   ],
   "source": [
    "fig, ax = plt.subplots()\n",
    "for label in labels:\n",
    "    d = data.loc[data.label == label]\n",
    "    ax.scatter(x=d[\"ndvi\"], y=d[\"fdi\"])\n",
    "    \n",
    "ax.legend(labels)\n",
    "ax.set_xlabel(\"ndvi\")\n",
    "ax.set_ylabel(\"fdi\")"
   ]
  },
  {
   "cell_type": "markdown",
   "metadata": {},
   "source": [
    "## Original Data\n",
    "\n",
    "Biermann et al., 2020 Fig 2 (right)\n",
    "file:///home/marc/Downloads/s41598-020-62298-z%20(3).pdf\n",
    "\n",
    "<img width=500px src=\"Biermann2020/biermann.png\">"
   ]
  },
  {
   "cell_type": "code",
   "execution_count": null,
   "metadata": {},
   "outputs": [],
   "source": []
  }
 ],
 "metadata": {
  "kernelspec": {
   "display_name": "Python 3",
   "language": "python",
   "name": "python3"
  },
  "language_info": {
   "codemirror_mode": {
    "name": "ipython",
    "version": 3
   },
   "file_extension": ".py",
   "mimetype": "text/x-python",
   "name": "python",
   "nbconvert_exporter": "python",
   "pygments_lexer": "ipython3",
   "version": "3.7.6"
  }
 },
 "nbformat": 4,
 "nbformat_minor": 4
}
