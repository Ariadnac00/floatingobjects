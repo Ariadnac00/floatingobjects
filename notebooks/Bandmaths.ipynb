{
 "cells": [
  {
   "cell_type": "code",
   "execution_count": 2,
   "id": "expensive-satellite",
   "metadata": {},
   "outputs": [],
   "source": [
    "import rasterio"
   ]
  },
  {
   "cell_type": "code",
   "execution_count": 4,
   "id": "three-cowboy",
   "metadata": {},
   "outputs": [
    {
     "name": "stdout",
     "output_type": "stream",
     "text": [
      "accra_20181031.cpg\t     neworleans_20200202.shp\r\n",
      "accra_20181031.dbf\t     neworleans_20200202.shx\r\n",
      "accra_20181031.fix\t     neworleans_20200202.tif\r\n",
      "accra_20181031.prj\t     panama_20190425.cpg\r\n",
      "accra_20181031.shp\t     panama_20190425.dbf\r\n",
      "accra_20181031.shx\t     panama_20190425.fix\r\n",
      "accra_20181031.tif\t     panama_20190425_l2a.tif\r\n",
      "biscay_20180419.cpg\t     panama_20190425.prj\r\n",
      "biscay_20180419.dbf\t     panama_20190425.shp\r\n",
      "biscay_20180419.fix\t     panama_20190425.shx\r\n",
      "biscay_20180419_l2a.tif      panama_20190425.tif\r\n",
      "biscay_20180419.prj\t     riodejaneiro_20180504.cpg\r\n",
      "biscay_20180419.shp\t     riodejaneiro_20180504.dbf\r\n",
      "biscay_20180419.shx\t     riodejaneiro_20180504.fix\r\n",
      "biscay_20180419.tif\t     riodejaneiro_20180504_l2a.tif\r\n",
      "danang_20181005.cpg\t     riodejaneiro_20180504.prj\r\n",
      "danang_20181005.dbf\t     riodejaneiro_20180504.shp\r\n",
      "danang_20181005.fix\t     riodejaneiro_20180504.shx\r\n",
      "danang_20181005.prj\t     riodejaneiro_20180504.tif\r\n",
      "danang_20181005.shp\t     sandiego_20180804.cpg\r\n",
      "danang_20181005.shx\t     sandiego_20180804.dbf\r\n",
      "danang_20181005.tif\t     sandiego_20180804.fix\r\n",
      "kolkata_20201115.cpg\t     sandiego_20180804_l2a.tif\r\n",
      "kolkata_20201115.dbf\t     sandiego_20180804.prj\r\n",
      "kolkata_20201115.fix\t     sandiego_20180804.shp\r\n",
      "kolkata_20201115_l2a.tif     sandiego_20180804.shx\r\n",
      "kolkata_20201115.prj\t     sandiego_20180804.tif\r\n",
      "kolkata_20201115.shp\t     shengsi_20190615.cpg\r\n",
      "kolkata_20201115.shx\t     shengsi_20190615.dbf\r\n",
      "kolkata_20201115.tif\t     shengsi_20190615.fix\r\n",
      "lagos_20190101.cpg\t     shengsi_20190615_l2a.tif\r\n",
      "lagos_20190101.dbf\t     shengsi_20190615.prj\r\n",
      "lagos_20190101.fix\t     shengsi_20190615.shp\r\n",
      "lagos_20190101_l2a.tif\t     shengsi_20190615.shx\r\n",
      "lagos_20190101.prj\t     shengsi_20190615.tif\r\n",
      "lagos_20190101.shp\t     toledo_20191221.cpg\r\n",
      "lagos_20190101.shx\t     toledo_20191221.dbf\r\n",
      "lagos_20190101.tif\t     toledo_20191221.fix\r\n",
      "lagos_20200505.cpg\t     toledo_20191221.prj\r\n",
      "lagos_20200505.dbf\t     toledo_20191221.shp\r\n",
      "lagos_20200505.fix\t     toledo_20191221.shx\r\n",
      "lagos_20200505_l2a.tif\t     toledo_20191221.tif\r\n",
      "lagos_20200505.prj\t     venice_20180630.cpg\r\n",
      "lagos_20200505.shp\t     venice_20180630.dbf\r\n",
      "lagos_20200505.shx\t     venice_20180630.fix\r\n",
      "lagos_20200505.tif\t     venice_20180630_l2a.tif\r\n",
      "longxuyen_20181102.cpg\t     venice_20180630.prj\r\n",
      "longxuyen_20181102.dbf\t     venice_20180630.shp\r\n",
      "longxuyen_20181102.fix\t     venice_20180630.shx\r\n",
      "longxuyen_20181102.prj\t     venice_20180630.tif\r\n",
      "longxuyen_20181102.shp\t     venice_20180928.cpg\r\n",
      "longxuyen_20181102.shx\t     venice_20180928.dbf\r\n",
      "longxuyen-20181102.tif\t     venice_20180928.fix\r\n",
      "longxuyen_20181102.tif\t     venice_20180928_l2a.tif\r\n",
      "mandaluyong_20180314.cpg     venice_20180928.prj\r\n",
      "mandaluyong_20180314.dbf     venice_20180928.shp\r\n",
      "mandaluyong_20180314.fix     venice_20180928.shx\r\n",
      "mandaluyong_20180314.prj     venice_20180928.tif\r\n",
      "mandaluyong_20180314.shp     vungtau_20180423.cpg\r\n",
      "mandaluyong_20180314.shx     vungtau_20180423.dbf\r\n",
      "mandaluyong_20180314.tif     vungtau_20180423.fix\r\n",
      "neworleans_20200202.cpg      vungtau_20180423.prj\r\n",
      "neworleans_20200202.dbf      vungtau_20180423.shp\r\n",
      "neworleans_20200202.fix      vungtau_20180423.shx\r\n",
      "neworleans_20200202_l2a.tif  vungtau_20180423.tif\r\n",
      "neworleans_20200202.prj\r\n"
     ]
    }
   ],
   "source": [
    "!ls \"/ssd/floatingObjects/data/biscay_20180419.tif\""
   ]
  },
  {
   "cell_type": "code",
   "execution_count": 45,
   "id": "automatic-survival",
   "metadata": {},
   "outputs": [],
   "source": [
    "from data import l2abands, l1cbands, allregions\n",
    "import sys\n",
    "import numpy as np\n",
    "sys.path.append(\"../code\")\n",
    "from transforms import calculate_fdi, calculate_ndvi\n",
    "\n",
    "import os\n",
    "image_folder = \"/ssd/floatingObjects/data/\"\n",
    "viz_folder = \"/ssd/floatingObjects/viz\"\n"
   ]
  },
  {
   "cell_type": "code",
   "execution_count": 38,
   "id": "realistic-memphis",
   "metadata": {},
   "outputs": [],
   "source": [
    "\n",
    "def load_raster(tif):\n",
    "    with rasterio.open(tif) as src:\n",
    "        scene = src.read()\n",
    "        if (scene.shape[0] == 13):  # is L1C Sentinel 2 data\n",
    "            scene = scene[[l1cbands.index(b) for b in l2abands]]\n",
    "        profile = src.profile\n",
    "    return scene, profile\n",
    "\n"
   ]
  },
  {
   "cell_type": "code",
   "execution_count": 49,
   "id": "defensive-worker",
   "metadata": {},
   "outputs": [
    {
     "name": "stderr",
     "output_type": "stream",
     "text": [
      "100%|██████████| 15/15 [02:44<00:00, 10.96s/it]\n"
     ]
    }
   ],
   "source": [
    "from tqdm import tqdm\n",
    "os.makedirs(viz_folder, exist_ok=True)\n",
    "for region in tqdm(allregions):\n",
    "    l1cpath = os.path.join(image_folder, region + \".tif\")\n",
    "    l2apath = os.path.join(image_folder, region + \"_l2a.tif\")\n",
    "    imagepath = l2apath if os.path.exists(l2apath) else l1cpath\n",
    "\n",
    "    scene, profile = load_raster(imagepath)\n",
    "    scene = scene.astype(np.float32)\n",
    "    \n",
    "    fdi = calculate_fdi(scene)\n",
    "    ndvi = calculate_ndvi(scene)\n",
    "    \n",
    "    img, ext = os.path.basename(imagepath).split(\".\")\n",
    "    \n",
    "    writeprofile = profile\n",
    "    writeprofile[\"dtype\"] = \"float32\"\n",
    "    writeprofile[\"count\"] = 1\n",
    "\n",
    "    with rasterio.open(os.path.join(viz_folder, img + \"_ndvi.\"+ext), \"w\", **writeprofile) as dst:\n",
    "        dst.write(np.expand_dims(ndvi,0).astype(np.float32))\n",
    "        \n",
    "    with rasterio.open(os.path.join(viz_folder, img + \"_fdi.\"+ext), \"w\", **writeprofile) as dst:\n",
    "        dst.write(np.expand_dims(fdi,0).astype(np.float32))"
   ]
  },
  {
   "cell_type": "code",
   "execution_count": 50,
   "id": "median-wisconsin",
   "metadata": {},
   "outputs": [],
   "source": [
    "\n",
    "imagepath = \"/ssd/floatingObjects/Plastic/Mytilini2018/Mytilini180607.tif\"\n",
    "viz_folder = \"/ssd/floatingObjects/Plastic/Mytilini2018/\"\n",
    "\n",
    "scene, profile = load_raster(imagepath)\n",
    "scene = scene.astype(np.float32)\n",
    "\n",
    "fdi = calculate_fdi(scene)\n",
    "ndvi = calculate_ndvi(scene)\n",
    "\n",
    "img, ext = os.path.basename(imagepath).split(\".\")\n",
    "\n",
    "writeprofile = profile\n",
    "writeprofile[\"dtype\"] = \"float32\"\n",
    "writeprofile[\"count\"] = 1\n",
    "\n",
    "with rasterio.open(os.path.join(viz_folder, img + \"_ndvi.\"+ext), \"w\", **writeprofile) as dst:\n",
    "    dst.write(np.expand_dims(ndvi,0).astype(np.float32))\n",
    "\n",
    "with rasterio.open(os.path.join(viz_folder, img + \"_fdi.\"+ext), \"w\", **writeprofile) as dst:\n",
    "    dst.write(np.expand_dims(fdi,0).astype(np.float32))"
   ]
  },
  {
   "cell_type": "code",
   "execution_count": 34,
   "id": "developmental-context",
   "metadata": {},
   "outputs": [
    {
     "data": {
      "text/plain": [
       "'/ssd/floatingObjects/data/kolkata_20201115_l2a.tif'"
      ]
     },
     "execution_count": 34,
     "metadata": {},
     "output_type": "execute_result"
    }
   ],
   "source": [
    "image_folder"
   ]
  },
  {
   "cell_type": "code",
   "execution_count": null,
   "id": "celtic-satellite",
   "metadata": {},
   "outputs": [],
   "source": []
  }
 ],
 "metadata": {
  "kernelspec": {
   "display_name": "Python 3",
   "language": "python",
   "name": "python3"
  },
  "language_info": {
   "codemirror_mode": {
    "name": "ipython",
    "version": 3
   },
   "file_extension": ".py",
   "mimetype": "text/x-python",
   "name": "python",
   "nbconvert_exporter": "python",
   "pygments_lexer": "ipython3",
   "version": "3.8.2"
  }
 },
 "nbformat": 4,
 "nbformat_minor": 5
}
